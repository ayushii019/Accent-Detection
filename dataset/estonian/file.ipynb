{
 "cells": [
  {
   "cell_type": "code",
   "execution_count": 5,
   "metadata": {},
   "outputs": [],
   "source": [
    "import os\n",
    "for root, dirs, files in os.walk('e:\\\\Megathon\\\\speech\\\\train'):\n",
    "    for file in files:\n",
    "        if file.endswith(\".mp3\"):\n",
    "            os.rename(os.path.join(root,file),os.path.join(root, file[:-4]+'.wav'))"
   ]
  },
  {
   "cell_type": "code",
   "execution_count": 1,
   "metadata": {},
   "outputs": [
    {
     "name": "stdout",
     "output_type": "stream",
     "text": [
      "['afrikaans2.mp3', 'afrikaans3.mp3', 'afrikaans4.mp3', 'afrikaans5.mp3']\n"
     ]
    }
   ],
   "source": [
    "import os\n",
    "import glob\n",
    "# files                                                                         \n",
    "lst = glob.glob(\"*.mp3\")\n",
    "print(lst)\n",
    " \n",
    "for file in lst:\n",
    "# convert wav to mp3\n",
    "\tos.system(f\"\"\"ffmpeg -i {file} -acodec pcm_u8 -ar 22050 {file[:-4]}.wav\"\"\")\n",
    "\tos.remove(file)\n"
   ]
  }
 ],
 "metadata": {
  "kernelspec": {
   "display_name": "Python 3.6.3 64-bit",
   "language": "python",
   "name": "python3"
  },
  "language_info": {
   "codemirror_mode": {
    "name": "ipython",
    "version": 3
   },
   "file_extension": ".py",
   "mimetype": "text/x-python",
   "name": "python",
   "nbconvert_exporter": "python",
   "pygments_lexer": "ipython3",
   "version": "3.6.3"
  },
  "orig_nbformat": 4,
  "vscode": {
   "interpreter": {
    "hash": "52634da84371cba311ea128a5ea7cdc41ff074b781779e754b270ff9f8153cee"
   }
  }
 },
 "nbformat": 4,
 "nbformat_minor": 2
}
