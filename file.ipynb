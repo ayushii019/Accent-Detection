{
 "cells": [
  {
   "cell_type": "code",
   "execution_count": 2,
   "metadata": {},
   "outputs": [],
   "source": [
    "input_file=\"e:\\\\Megathon\\\\speech\\\\train\\\\afrikaans\"\n"
   ]
  },
  {
   "cell_type": "code",
   "execution_count": 5,
   "metadata": {},
   "outputs": [],
   "source": [
    "import os\n",
    "for root, dirs, files in os.walk('e:\\\\Megathon\\\\speech\\\\train'):\n",
    "    for file in files:\n",
    "        if file.endswith(\".mp3\"):\n",
    "            os.rename(os.path.join(root,file),os.path.join(root, file[:-4]+'.wav'))"
   ]
  },
  {
   "cell_type": "code",
   "execution_count": 3,
   "metadata": {},
   "outputs": [],
   "source": [
    "import os\n",
    "from pathlib import Path\n",
    "#Change working directory\n",
    "os.chdir(input_file)\n",
    "files = os.listdir()\n",
    "for file in files:\n",
    "    # file=file.replace(\".mp3\",\".wav\")\n",
    "    os.rename(file,file.replace(\".mp3\",\".wav\"))\n",
    "    #p.rename(p.with_suffix('.wav'))"
   ]
  }
 ],
 "metadata": {
  "kernelspec": {
   "display_name": "Python 3.6.3 64-bit",
   "language": "python",
   "name": "python3"
  },
  "language_info": {
   "codemirror_mode": {
    "name": "ipython",
    "version": 3
   },
   "file_extension": ".py",
   "mimetype": "text/x-python",
   "name": "python",
   "nbconvert_exporter": "python",
   "pygments_lexer": "ipython3",
   "version": "3.6.3"
  },
  "orig_nbformat": 4,
  "vscode": {
   "interpreter": {
    "hash": "52634da84371cba311ea128a5ea7cdc41ff074b781779e754b270ff9f8153cee"
   }
  }
 },
 "nbformat": 4,
 "nbformat_minor": 2
}
